{
  "nbformat": 4,
  "nbformat_minor": 0,
  "metadata": {
    "colab": {
      "name": "Analysis_99_acers.ipynb",
      "provenance": [],
      "authorship_tag": "ABX9TyNBiiqQD3RPX754EzejgIfc",
      "include_colab_link": true
    },
    "kernelspec": {
      "name": "python3",
      "display_name": "Python 3"
    }
  },
  "cells": [
    {
      "cell_type": "markdown",
      "metadata": {
        "id": "view-in-github",
        "colab_type": "text"
      },
      "source": [
        "<a href=\"https://colab.research.google.com/github/kapilsingh9069/Analysis99acers/blob/master/Analysis_99_acers.ipynb\" target=\"_parent\"><img src=\"https://colab.research.google.com/assets/colab-badge.svg\" alt=\"Open In Colab\"/></a>"
      ]
    },
    {
      "cell_type": "code",
      "metadata": {
        "id": "IzRVh7xFeYzk",
        "colab_type": "code",
        "colab": {
          "base_uri": "https://localhost:8080/",
          "height": 481
        },
        "outputId": "e97cdf12-02e7-4a49-c9a0-f7c493d81426"
      },
      "source": [
        "!pip install geopandas"
      ],
      "execution_count": 2,
      "outputs": [
        {
          "output_type": "stream",
          "text": [
            "Collecting geopandas\n",
            "\u001b[?25l  Downloading https://files.pythonhosted.org/packages/f7/a4/e66aafbefcbb717813bf3a355c8c4fc3ed04ea1dd7feb2920f2f4f868921/geopandas-0.8.1-py2.py3-none-any.whl (962kB)\n",
            "\r\u001b[K     |▍                               | 10kB 16.8MB/s eta 0:00:01\r\u001b[K     |▊                               | 20kB 1.8MB/s eta 0:00:01\r\u001b[K     |█                               | 30kB 2.3MB/s eta 0:00:01\r\u001b[K     |█▍                              | 40kB 2.6MB/s eta 0:00:01\r\u001b[K     |█▊                              | 51kB 2.0MB/s eta 0:00:01\r\u001b[K     |██                              | 61kB 2.3MB/s eta 0:00:01\r\u001b[K     |██▍                             | 71kB 2.6MB/s eta 0:00:01\r\u001b[K     |██▊                             | 81kB 2.8MB/s eta 0:00:01\r\u001b[K     |███                             | 92kB 2.9MB/s eta 0:00:01\r\u001b[K     |███▍                            | 102kB 2.8MB/s eta 0:00:01\r\u001b[K     |███▊                            | 112kB 2.8MB/s eta 0:00:01\r\u001b[K     |████                            | 122kB 2.8MB/s eta 0:00:01\r\u001b[K     |████▍                           | 133kB 2.8MB/s eta 0:00:01\r\u001b[K     |████▊                           | 143kB 2.8MB/s eta 0:00:01\r\u001b[K     |█████                           | 153kB 2.8MB/s eta 0:00:01\r\u001b[K     |█████▌                          | 163kB 2.8MB/s eta 0:00:01\r\u001b[K     |█████▉                          | 174kB 2.8MB/s eta 0:00:01\r\u001b[K     |██████▏                         | 184kB 2.8MB/s eta 0:00:01\r\u001b[K     |██████▌                         | 194kB 2.8MB/s eta 0:00:01\r\u001b[K     |██████▉                         | 204kB 2.8MB/s eta 0:00:01\r\u001b[K     |███████▏                        | 215kB 2.8MB/s eta 0:00:01\r\u001b[K     |███████▌                        | 225kB 2.8MB/s eta 0:00:01\r\u001b[K     |███████▉                        | 235kB 2.8MB/s eta 0:00:01\r\u001b[K     |████████▏                       | 245kB 2.8MB/s eta 0:00:01\r\u001b[K     |████████▌                       | 256kB 2.8MB/s eta 0:00:01\r\u001b[K     |████████▉                       | 266kB 2.8MB/s eta 0:00:01\r\u001b[K     |█████████▏                      | 276kB 2.8MB/s eta 0:00:01\r\u001b[K     |█████████▌                      | 286kB 2.8MB/s eta 0:00:01\r\u001b[K     |█████████▉                      | 296kB 2.8MB/s eta 0:00:01\r\u001b[K     |██████████▏                     | 307kB 2.8MB/s eta 0:00:01\r\u001b[K     |██████████▌                     | 317kB 2.8MB/s eta 0:00:01\r\u001b[K     |███████████                     | 327kB 2.8MB/s eta 0:00:01\r\u001b[K     |███████████▎                    | 337kB 2.8MB/s eta 0:00:01\r\u001b[K     |███████████▋                    | 348kB 2.8MB/s eta 0:00:01\r\u001b[K     |████████████                    | 358kB 2.8MB/s eta 0:00:01\r\u001b[K     |████████████▎                   | 368kB 2.8MB/s eta 0:00:01\r\u001b[K     |████████████▋                   | 378kB 2.8MB/s eta 0:00:01\r\u001b[K     |█████████████                   | 389kB 2.8MB/s eta 0:00:01\r\u001b[K     |█████████████▎                  | 399kB 2.8MB/s eta 0:00:01\r\u001b[K     |█████████████▋                  | 409kB 2.8MB/s eta 0:00:01\r\u001b[K     |██████████████                  | 419kB 2.8MB/s eta 0:00:01\r\u001b[K     |██████████████▎                 | 430kB 2.8MB/s eta 0:00:01\r\u001b[K     |██████████████▋                 | 440kB 2.8MB/s eta 0:00:01\r\u001b[K     |███████████████                 | 450kB 2.8MB/s eta 0:00:01\r\u001b[K     |███████████████▎                | 460kB 2.8MB/s eta 0:00:01\r\u001b[K     |███████████████▋                | 471kB 2.8MB/s eta 0:00:01\r\u001b[K     |████████████████                | 481kB 2.8MB/s eta 0:00:01\r\u001b[K     |████████████████▍               | 491kB 2.8MB/s eta 0:00:01\r\u001b[K     |████████████████▊               | 501kB 2.8MB/s eta 0:00:01\r\u001b[K     |█████████████████               | 512kB 2.8MB/s eta 0:00:01\r\u001b[K     |█████████████████▍              | 522kB 2.8MB/s eta 0:00:01\r\u001b[K     |█████████████████▊              | 532kB 2.8MB/s eta 0:00:01\r\u001b[K     |██████████████████              | 542kB 2.8MB/s eta 0:00:01\r\u001b[K     |██████████████████▍             | 552kB 2.8MB/s eta 0:00:01\r\u001b[K     |██████████████████▊             | 563kB 2.8MB/s eta 0:00:01\r\u001b[K     |███████████████████             | 573kB 2.8MB/s eta 0:00:01\r\u001b[K     |███████████████████▍            | 583kB 2.8MB/s eta 0:00:01\r\u001b[K     |███████████████████▊            | 593kB 2.8MB/s eta 0:00:01\r\u001b[K     |████████████████████            | 604kB 2.8MB/s eta 0:00:01\r\u001b[K     |████████████████████▍           | 614kB 2.8MB/s eta 0:00:01\r\u001b[K     |████████████████████▊           | 624kB 2.8MB/s eta 0:00:01\r\u001b[K     |█████████████████████           | 634kB 2.8MB/s eta 0:00:01\r\u001b[K     |█████████████████████▍          | 645kB 2.8MB/s eta 0:00:01\r\u001b[K     |█████████████████████▉          | 655kB 2.8MB/s eta 0:00:01\r\u001b[K     |██████████████████████▏         | 665kB 2.8MB/s eta 0:00:01\r\u001b[K     |██████████████████████▌         | 675kB 2.8MB/s eta 0:00:01\r\u001b[K     |██████████████████████▉         | 686kB 2.8MB/s eta 0:00:01\r\u001b[K     |███████████████████████▏        | 696kB 2.8MB/s eta 0:00:01\r\u001b[K     |███████████████████████▌        | 706kB 2.8MB/s eta 0:00:01\r\u001b[K     |███████████████████████▉        | 716kB 2.8MB/s eta 0:00:01\r\u001b[K     |████████████████████████▏       | 727kB 2.8MB/s eta 0:00:01\r\u001b[K     |████████████████████████▌       | 737kB 2.8MB/s eta 0:00:01\r\u001b[K     |████████████████████████▉       | 747kB 2.8MB/s eta 0:00:01\r\u001b[K     |█████████████████████████▏      | 757kB 2.8MB/s eta 0:00:01\r\u001b[K     |█████████████████████████▌      | 768kB 2.8MB/s eta 0:00:01\r\u001b[K     |█████████████████████████▉      | 778kB 2.8MB/s eta 0:00:01\r\u001b[K     |██████████████████████████▏     | 788kB 2.8MB/s eta 0:00:01\r\u001b[K     |██████████████████████████▌     | 798kB 2.8MB/s eta 0:00:01\r\u001b[K     |██████████████████████████▉     | 808kB 2.8MB/s eta 0:00:01\r\u001b[K     |███████████████████████████▎    | 819kB 2.8MB/s eta 0:00:01\r\u001b[K     |███████████████████████████▋    | 829kB 2.8MB/s eta 0:00:01\r\u001b[K     |████████████████████████████    | 839kB 2.8MB/s eta 0:00:01\r\u001b[K     |████████████████████████████▎   | 849kB 2.8MB/s eta 0:00:01\r\u001b[K     |████████████████████████████▋   | 860kB 2.8MB/s eta 0:00:01\r\u001b[K     |█████████████████████████████   | 870kB 2.8MB/s eta 0:00:01\r\u001b[K     |█████████████████████████████▎  | 880kB 2.8MB/s eta 0:00:01\r\u001b[K     |█████████████████████████████▋  | 890kB 2.8MB/s eta 0:00:01\r\u001b[K     |██████████████████████████████  | 901kB 2.8MB/s eta 0:00:01\r\u001b[K     |██████████████████████████████▎ | 911kB 2.8MB/s eta 0:00:01\r\u001b[K     |██████████████████████████████▋ | 921kB 2.8MB/s eta 0:00:01\r\u001b[K     |███████████████████████████████ | 931kB 2.8MB/s eta 0:00:01\r\u001b[K     |███████████████████████████████▎| 942kB 2.8MB/s eta 0:00:01\r\u001b[K     |███████████████████████████████▋| 952kB 2.8MB/s eta 0:00:01\r\u001b[K     |████████████████████████████████| 962kB 2.8MB/s eta 0:00:01\r\u001b[K     |████████████████████████████████| 972kB 2.8MB/s \n",
            "\u001b[?25hCollecting fiona\n",
            "\u001b[?25l  Downloading https://files.pythonhosted.org/packages/ec/20/4e63bc5c6e62df889297b382c3ccd4a7a488b00946aaaf81a118158c6f09/Fiona-1.8.13.post1-cp36-cp36m-manylinux1_x86_64.whl (14.7MB)\n",
            "\u001b[K     |████████████████████████████████| 14.7MB 1.6MB/s \n",
            "\u001b[?25hCollecting pyproj>=2.2.0\n",
            "\u001b[?25l  Downloading https://files.pythonhosted.org/packages/e5/c3/071e080230ac4b6c64f1a2e2f9161c9737a2bc7b683d2c90b024825000c0/pyproj-2.6.1.post1-cp36-cp36m-manylinux2010_x86_64.whl (10.9MB)\n",
            "\u001b[K     |████████████████████████████████| 10.9MB 48.2MB/s \n",
            "\u001b[?25hRequirement already satisfied: shapely in /usr/local/lib/python3.6/dist-packages (from geopandas) (1.7.0)\n",
            "Requirement already satisfied: pandas>=0.23.0 in /usr/local/lib/python3.6/dist-packages (from geopandas) (1.0.5)\n",
            "Requirement already satisfied: attrs>=17 in /usr/local/lib/python3.6/dist-packages (from fiona->geopandas) (19.3.0)\n",
            "Collecting cligj>=0.5\n",
            "  Downloading https://files.pythonhosted.org/packages/e4/be/30a58b4b0733850280d01f8bd132591b4668ed5c7046761098d665ac2174/cligj-0.5.0-py3-none-any.whl\n",
            "Collecting click-plugins>=1.0\n",
            "  Downloading https://files.pythonhosted.org/packages/e9/da/824b92d9942f4e472702488857914bdd50f73021efea15b4cad9aca8ecef/click_plugins-1.1.1-py2.py3-none-any.whl\n",
            "Requirement already satisfied: click<8,>=4.0 in /usr/local/lib/python3.6/dist-packages (from fiona->geopandas) (7.1.2)\n",
            "Collecting munch\n",
            "  Downloading https://files.pythonhosted.org/packages/cc/ab/85d8da5c9a45e072301beb37ad7f833cd344e04c817d97e0cc75681d248f/munch-2.5.0-py2.py3-none-any.whl\n",
            "Requirement already satisfied: six>=1.7 in /usr/local/lib/python3.6/dist-packages (from fiona->geopandas) (1.15.0)\n",
            "Requirement already satisfied: pytz>=2017.2 in /usr/local/lib/python3.6/dist-packages (from pandas>=0.23.0->geopandas) (2018.9)\n",
            "Requirement already satisfied: numpy>=1.13.3 in /usr/local/lib/python3.6/dist-packages (from pandas>=0.23.0->geopandas) (1.18.5)\n",
            "Requirement already satisfied: python-dateutil>=2.6.1 in /usr/local/lib/python3.6/dist-packages (from pandas>=0.23.0->geopandas) (2.8.1)\n",
            "Installing collected packages: cligj, click-plugins, munch, fiona, pyproj, geopandas\n",
            "Successfully installed click-plugins-1.1.1 cligj-0.5.0 fiona-1.8.13.post1 geopandas-0.8.1 munch-2.5.0 pyproj-2.6.1.post1\n"
          ],
          "name": "stdout"
        }
      ]
    },
    {
      "cell_type": "code",
      "metadata": {
        "id": "bj8Egd7Te_hE",
        "colab_type": "code",
        "colab": {
          "base_uri": "https://localhost:8080/",
          "height": 107
        },
        "outputId": "08f834b0-e921-48a4-8bfc-4f620a060879"
      },
      "source": [
        "import pandas as pd\n",
        "import numpy as np\n",
        "import plotly.express as px\n",
        "from geopandas import *\n",
        "from geopy import *\n",
        "from geopy.extra.rate_limiter import RateLimiter\n",
        "import seaborn as sns\n",
        "sns.set()\n"
      ],
      "execution_count": 19,
      "outputs": [
        {
          "output_type": "stream",
          "text": [
            "/usr/local/lib/python3.6/dist-packages/statsmodels/tools/_testing.py:19: FutureWarning:\n",
            "\n",
            "pandas.util.testing is deprecated. Use the functions in the public API at pandas.testing instead.\n",
            "\n"
          ],
          "name": "stderr"
        }
      ]
    },
    {
      "cell_type": "code",
      "metadata": {
        "id": "ZrhBeg5Lfsbs",
        "colab_type": "code",
        "colab": {}
      },
      "source": [
        "df = pd.read_csv('MetroCitiesDataNew.csv')"
      ],
      "execution_count": 4,
      "outputs": []
    },
    {
      "cell_type": "code",
      "metadata": {
        "id": "vDiu8bC1gREy",
        "colab_type": "code",
        "colab": {
          "base_uri": "https://localhost:8080/",
          "height": 534
        },
        "outputId": "dd286589-7474-4853-f43a-4490f1c58c85"
      },
      "source": [
        "df.head()"
      ],
      "execution_count": 5,
      "outputs": [
        {
          "output_type": "execute_result",
          "data": {
            "text/html": [
              "<div>\n",
              "<style scoped>\n",
              "    .dataframe tbody tr th:only-of-type {\n",
              "        vertical-align: middle;\n",
              "    }\n",
              "\n",
              "    .dataframe tbody tr th {\n",
              "        vertical-align: top;\n",
              "    }\n",
              "\n",
              "    .dataframe thead th {\n",
              "        text-align: right;\n",
              "    }\n",
              "</style>\n",
              "<table border=\"1\" class=\"dataframe\">\n",
              "  <thead>\n",
              "    <tr style=\"text-align: right;\">\n",
              "      <th></th>\n",
              "      <th>Unnamed: 0</th>\n",
              "      <th>Unnamed: 0.1</th>\n",
              "      <th>Location</th>\n",
              "      <th>Name_of_The_property</th>\n",
              "      <th>Bhk</th>\n",
              "      <th>Availability</th>\n",
              "      <th>Totat_sqft</th>\n",
              "      <th>Price_per_sqft</th>\n",
              "      <th>Total_price</th>\n",
              "      <th>Bathroom</th>\n",
              "      <th>Square_mt_area</th>\n",
              "      <th>City</th>\n",
              "    </tr>\n",
              "  </thead>\n",
              "  <tbody>\n",
              "    <tr>\n",
              "      <th>0</th>\n",
              "      <td>0</td>\n",
              "      <td>0</td>\n",
              "      <td>3 BHK Residential Apartment in Hennur Road</td>\n",
              "      <td>Kolte Patil Raaga Phase 2</td>\n",
              "      <td>3.0</td>\n",
              "      <td>UNDER CONSTRUCTION</td>\n",
              "      <td>901</td>\n",
              "      <td>0</td>\n",
              "      <td>₹ 77.89 Lac</td>\n",
              "      <td>3.0</td>\n",
              "      <td>84</td>\n",
              "      <td>bangalore</td>\n",
              "    </tr>\n",
              "    <tr>\n",
              "      <th>1</th>\n",
              "      <td>1</td>\n",
              "      <td>1</td>\n",
              "      <td>2 BHK Residential Apartment in Kasturi Nagar</td>\n",
              "      <td>YD Exotica</td>\n",
              "      <td>2.0</td>\n",
              "      <td>UNDER CONSTRUCTION</td>\n",
              "      <td>1,077-1,117</td>\n",
              "      <td>₹ 5,388/sq.ft.</td>\n",
              "      <td>₹ 58.85  - 59.76 Lac</td>\n",
              "      <td>2.0</td>\n",
              "      <td>100-104</td>\n",
              "      <td>bangalore</td>\n",
              "    </tr>\n",
              "    <tr>\n",
              "      <th>2</th>\n",
              "      <td>2</td>\n",
              "      <td>2</td>\n",
              "      <td>3 BHK Residential Apartment in Thubarahalli</td>\n",
              "      <td>Keerthi Splendour</td>\n",
              "      <td>3.0</td>\n",
              "      <td>READY TO MOVE</td>\n",
              "      <td>1,141-1,537</td>\n",
              "      <td>₹ 4,400/sq.ft.</td>\n",
              "      <td>₹ 50.2  - 67.63 Lac</td>\n",
              "      <td>3.0</td>\n",
              "      <td>106-143</td>\n",
              "      <td>bangalore</td>\n",
              "    </tr>\n",
              "    <tr>\n",
              "      <th>3</th>\n",
              "      <td>3</td>\n",
              "      <td>3</td>\n",
              "      <td>2 BHK Residential Apartment in Panathur</td>\n",
              "      <td>Bhuvi by Amsha</td>\n",
              "      <td>2.0</td>\n",
              "      <td>UNDER CONSTRUCTION</td>\n",
              "      <td>1,232-1,343</td>\n",
              "      <td>₹ 6,407/sq.ft.</td>\n",
              "      <td>₹ 79  - 86.11 Lac</td>\n",
              "      <td>2.0</td>\n",
              "      <td>115-125</td>\n",
              "      <td>bangalore</td>\n",
              "    </tr>\n",
              "    <tr>\n",
              "      <th>4</th>\n",
              "      <td>4</td>\n",
              "      <td>4</td>\n",
              "      <td>3 Bedroom Independent House in Whitefield</td>\n",
              "      <td>Urbanx Earth N Sky Villas</td>\n",
              "      <td>3.0</td>\n",
              "      <td>UNDER CONSTRUCTION</td>\n",
              "      <td>2,158-2,435</td>\n",
              "      <td>₹ 6,442/sq.ft.</td>\n",
              "      <td>₹ 1.39  - 1.57 Cr</td>\n",
              "      <td>3.0</td>\n",
              "      <td>200-226</td>\n",
              "      <td>bangalore</td>\n",
              "    </tr>\n",
              "  </tbody>\n",
              "</table>\n",
              "</div>"
            ],
            "text/plain": [
              "   Unnamed: 0  Unnamed: 0.1  ... Square_mt_area       City\n",
              "0           0             0  ...            84   bangalore\n",
              "1           1             1  ...       100-104   bangalore\n",
              "2           2             2  ...       106-143   bangalore\n",
              "3           3             3  ...       115-125   bangalore\n",
              "4           4             4  ...       200-226   bangalore\n",
              "\n",
              "[5 rows x 12 columns]"
            ]
          },
          "metadata": {
            "tags": []
          },
          "execution_count": 5
        }
      ]
    },
    {
      "cell_type": "code",
      "metadata": {
        "id": "tF133ErHgYKE",
        "colab_type": "code",
        "colab": {
          "base_uri": "https://localhost:8080/",
          "height": 247
        },
        "outputId": "718f166f-e180-4987-df6f-a189df6bbbfd"
      },
      "source": [
        "df.isnull().sum()"
      ],
      "execution_count": 7,
      "outputs": [
        {
          "output_type": "execute_result",
          "data": {
            "text/plain": [
              "Unnamed: 0                0\n",
              "Unnamed: 0.1              0\n",
              "Location                  0\n",
              "Name_of_The_property    450\n",
              "Bhk                     390\n",
              "Availability              0\n",
              "Totat_sqft                0\n",
              "Price_per_sqft            0\n",
              "Total_price               0\n",
              "Bathroom                390\n",
              "Square_mt_area            0\n",
              "City                      0\n",
              "dtype: int64"
            ]
          },
          "metadata": {
            "tags": []
          },
          "execution_count": 7
        }
      ]
    },
    {
      "cell_type": "code",
      "metadata": {
        "id": "x2_F_aYZgeLM",
        "colab_type": "code",
        "colab": {
          "base_uri": "https://localhost:8080/",
          "height": 34
        },
        "outputId": "17f8ed00-c913-40a8-f2ac-72010250c4fe"
      },
      "source": [
        "df.shape"
      ],
      "execution_count": 8,
      "outputs": [
        {
          "output_type": "execute_result",
          "data": {
            "text/plain": [
              "(3720, 12)"
            ]
          },
          "metadata": {
            "tags": []
          },
          "execution_count": 8
        }
      ]
    },
    {
      "cell_type": "code",
      "metadata": {
        "id": "fErciIyPgpa0",
        "colab_type": "code",
        "colab": {}
      },
      "source": [
        "df['Bhk'] = df['Bhk'].fillna(df['Bhk'].median())"
      ],
      "execution_count": 12,
      "outputs": []
    },
    {
      "cell_type": "code",
      "metadata": {
        "id": "-jpa-TcFhEIc",
        "colab_type": "code",
        "colab": {}
      },
      "source": [
        "df['Bathroom'] = df['Bathroom'].fillna(df['Bathroom'].median())"
      ],
      "execution_count": 11,
      "outputs": []
    },
    {
      "cell_type": "code",
      "metadata": {
        "id": "RJ_cCqgFhfx0",
        "colab_type": "code",
        "colab": {
          "base_uri": "https://localhost:8080/",
          "height": 247
        },
        "outputId": "ae7a896c-8e88-4ecc-eb38-905472803239"
      },
      "source": [
        "df.isnull().sum()"
      ],
      "execution_count": 14,
      "outputs": [
        {
          "output_type": "execute_result",
          "data": {
            "text/plain": [
              "Unnamed: 0                0\n",
              "Unnamed: 0.1              0\n",
              "Location                  0\n",
              "Name_of_The_property    450\n",
              "Bhk                       0\n",
              "Availability              0\n",
              "Totat_sqft                0\n",
              "Price_per_sqft            0\n",
              "Total_price               0\n",
              "Bathroom                  0\n",
              "Square_mt_area            0\n",
              "City                      0\n",
              "dtype: int64"
            ]
          },
          "metadata": {
            "tags": []
          },
          "execution_count": 14
        }
      ]
    },
    {
      "cell_type": "code",
      "metadata": {
        "id": "UG0rZBzah5qE",
        "colab_type": "code",
        "colab": {
          "base_uri": "https://localhost:8080/",
          "height": 141
        },
        "outputId": "d9551555-d8cd-42d0-9eca-01def62dd379"
      },
      "source": [
        "df['Bhk'].value_counts(normalize=True)"
      ],
      "execution_count": 16,
      "outputs": [
        {
          "output_type": "execute_result",
          "data": {
            "text/plain": [
              "3.0    0.524194\n",
              "2.0    0.274194\n",
              "4.0    0.129032\n",
              "1.0    0.056452\n",
              "5.0    0.008065\n",
              "7.0    0.008065\n",
              "Name: Bhk, dtype: float64"
            ]
          },
          "metadata": {
            "tags": []
          },
          "execution_count": 16
        }
      ]
    },
    {
      "cell_type": "code",
      "metadata": {
        "id": "WXrObYTuiLVb",
        "colab_type": "code",
        "colab": {
          "base_uri": "https://localhost:8080/",
          "height": 288
        },
        "outputId": "2f6c3399-e582-496a-c4ee-efede5f4ac7a"
      },
      "source": [
        "df['Bhk'].value_counts().plot(kind='bar')\n"
      ],
      "execution_count": 18,
      "outputs": [
        {
          "output_type": "execute_result",
          "data": {
            "text/plain": [
              "<matplotlib.axes._subplots.AxesSubplot at 0x7f847e666e48>"
            ]
          },
          "metadata": {
            "tags": []
          },
          "execution_count": 18
        },
        {
          "output_type": "display_data",
          "data": {
            "image/png": "[encoded data removed]",
            "text/plain": [
              "<Figure size 432x288 with 1 Axes>"
            ]
          },
          "metadata": {
            "tags": [],
            "needs_background": "light"
          }
        }
      ]
    },
    {
      "cell_type": "code",
      "metadata": {
        "id": "jnwSUDW4jsss",
        "colab_type": "code",
        "colab": {
          "base_uri": "https://localhost:8080/",
          "height": 284
        },
        "outputId": "19559f3d-0165-4ef7-ff20-17acb0ec8caf"
      },
      "source": [
        "p=sns.countplot(x='Bhk', data=df)\n"
      ],
      "execution_count": 20,
      "outputs": [
        {
          "output_type": "display_data",
          "data": {
            "image/png": "[encoded data removed]",
            "text/plain": [
              "<Figure size 432x288 with 1 Axes>"
            ]
          },
          "metadata": {
            "tags": []
          }
        }
      ]
    },
    {
      "cell_type": "code",
      "metadata": {
        "id": "N-bJqGnXkJza",
        "colab_type": "code",
        "colab": {
          "base_uri": "https://localhost:8080/",
          "height": 227
        },
        "outputId": "d042d8d3-3dfa-4573-ebd6-ef5a2cd9b775"
      },
      "source": [
        "s = df.Bhk\n",
        "counts = s.value_counts()\n",
        "percent = s.value_counts(normalize=True)\n",
        "percent100 = s.value_counts(normalize=True).mul(100).round(1).astype(str) + '%'\n",
        "pd.DataFrame({'counts':counts, 'per':percent, 'per100':percent100})"
      ],
      "execution_count": 23,
      "outputs": [
        {
          "output_type": "execute_result",
          "data": {
            "text/html": [
              "<div>\n",
              "<style scoped>\n",
              "    .dataframe tbody tr th:only-of-type {\n",
              "        vertical-align: middle;\n",
              "    }\n",
              "\n",
              "    .dataframe tbody tr th {\n",
              "        vertical-align: top;\n",
              "    }\n",
              "\n",
              "    .dataframe thead th {\n",
              "        text-align: right;\n",
              "    }\n",
              "</style>\n",
              "<table border=\"1\" class=\"dataframe\">\n",
              "  <thead>\n",
              "    <tr style=\"text-align: right;\">\n",
              "      <th></th>\n",
              "      <th>counts</th>\n",
              "      <th>per</th>\n",
              "      <th>per100</th>\n",
              "    </tr>\n",
              "  </thead>\n",
              "  <tbody>\n",
              "    <tr>\n",
              "      <th>3.0</th>\n",
              "      <td>1950</td>\n",
              "      <td>0.524194</td>\n",
              "      <td>52.4%</td>\n",
              "    </tr>\n",
              "    <tr>\n",
              "      <th>2.0</th>\n",
              "      <td>1020</td>\n",
              "      <td>0.274194</td>\n",
              "      <td>27.4%</td>\n",
              "    </tr>\n",
              "    <tr>\n",
              "      <th>4.0</th>\n",
              "      <td>480</td>\n",
              "      <td>0.129032</td>\n",
              "      <td>12.9%</td>\n",
              "    </tr>\n",
              "    <tr>\n",
              "      <th>1.0</th>\n",
              "      <td>210</td>\n",
              "      <td>0.056452</td>\n",
              "      <td>5.6%</td>\n",
              "    </tr>\n",
              "    <tr>\n",
              "      <th>5.0</th>\n",
              "      <td>30</td>\n",
              "      <td>0.008065</td>\n",
              "      <td>0.8%</td>\n",
              "    </tr>\n",
              "    <tr>\n",
              "      <th>7.0</th>\n",
              "      <td>30</td>\n",
              "      <td>0.008065</td>\n",
              "      <td>0.8%</td>\n",
              "    </tr>\n",
              "  </tbody>\n",
              "</table>\n",
              "</div>"
            ],
            "text/plain": [
              "     counts       per per100\n",
              "3.0    1950  0.524194  52.4%\n",
              "2.0    1020  0.274194  27.4%\n",
              "4.0     480  0.129032  12.9%\n",
              "1.0     210  0.056452   5.6%\n",
              "5.0      30  0.008065   0.8%\n",
              "7.0      30  0.008065   0.8%"
            ]
          },
          "metadata": {
            "tags": []
          },
          "execution_count": 23
        }
      ]
    }
  ]
}